{
  "nbformat": 4,
  "nbformat_minor": 0,
  "metadata": {
    "colab": {
      "provenance": []
    },
    "kernelspec": {
      "name": "python3",
      "display_name": "Python 3"
    },
    "language_info": {
      "name": "python"
    }
  },
  "cells": [
    {
      "cell_type": "markdown",
      "source": [
        "# Importações e Instalações das bibliotecas e dependências"
      ],
      "metadata": {
        "id": "udFq47msBi7b"
      }
    },
    {
      "cell_type": "code",
      "source": [
        "pip install pydantic[email]"
      ],
      "metadata": {
        "colab": {
          "base_uri": "https://localhost:8080/"
        },
        "id": "BHi-PzcBD19E",
        "outputId": "f810dfc0-3305-4722-e421-64d35088fdfe"
      },
      "execution_count": 10,
      "outputs": [
        {
          "output_type": "stream",
          "name": "stdout",
          "text": [
            "Requirement already satisfied: pydantic[email] in /usr/local/lib/python3.11/dist-packages (2.10.6)\n",
            "Requirement already satisfied: annotated-types>=0.6.0 in /usr/local/lib/python3.11/dist-packages (from pydantic[email]) (0.7.0)\n",
            "Requirement already satisfied: pydantic-core==2.27.2 in /usr/local/lib/python3.11/dist-packages (from pydantic[email]) (2.27.2)\n",
            "Requirement already satisfied: typing-extensions>=4.12.2 in /usr/local/lib/python3.11/dist-packages (from pydantic[email]) (4.12.2)\n",
            "Requirement already satisfied: email-validator>=2.0.0 in /usr/local/lib/python3.11/dist-packages (from pydantic[email]) (2.2.0)\n",
            "Requirement already satisfied: dnspython>=2.0.0 in /usr/local/lib/python3.11/dist-packages (from email-validator>=2.0.0->pydantic[email]) (2.7.0)\n",
            "Requirement already satisfied: idna>=2.0.0 in /usr/local/lib/python3.11/dist-packages (from email-validator>=2.0.0->pydantic[email]) (3.10)\n"
          ]
        }
      ]
    },
    {
      "cell_type": "code",
      "source": [
        "from enum import auto, IntFlag\n",
        "from typing import Any\n",
        "\n",
        "from pydantic import (\n",
        "    BaseModel,\n",
        "    EmailStr,\n",
        "    Field,\n",
        "    SecretStr,\n",
        "    ValidationError,\n",
        ")"
      ],
      "metadata": {
        "id": "dVtQcrC9BVO0"
      },
      "execution_count": 11,
      "outputs": []
    },
    {
      "cell_type": "markdown",
      "source": [
        "# Criação das classes Role e User para saber o papel do usuário e verificar seus dados"
      ],
      "metadata": {
        "id": "3emR_RtxB_Lx"
      }
    },
    {
      "cell_type": "code",
      "source": [
        "# Definição do Role usando intflag, aqui são criados os papéis de\n",
        "# Author, Editor, Developer e Admin(que tem as permissões de todos os anteriores)\n",
        "class Role(IntFlag):\n",
        "    Author = auto()\n",
        "    Editor = auto()\n",
        "    Developer = auto()\n",
        "    Admin = Author | Editor | Developer\n",
        "\n",
        "# Definição do User usando o BaseModel do Pydantic, especficando o nome,\n",
        "# email, senha e papel do User\n",
        "# Field é usado para puxar informações adicionais como exemplos ou atributos\n",
        "class User(BaseModel):\n",
        "    name: str = Field(examples=[\"Arjan\"])\n",
        "    email: EmailStr = Field(\n",
        "        examples=[\"example@arjancodes.com\"],\n",
        "        description=\"The email address of the user\",\n",
        "        frozen=True,\n",
        "    )\n",
        "    password: SecretStr = Field(\n",
        "        examples=[\"Password123\"], description=\"The password of the user\"\n",
        "    )\n",
        "    role: Role = Field(default=None, description=\"The role of the user\")"
      ],
      "metadata": {
        "id": "Iy6DsdAYBc1v"
      },
      "execution_count": 6,
      "outputs": []
    },
    {
      "cell_type": "markdown",
      "source": [
        "# Funções para verificação de dados e execução"
      ],
      "metadata": {
        "id": "Da6vB1kREFrx"
      }
    },
    {
      "cell_type": "code",
      "execution_count": 7,
      "metadata": {
        "colab": {
          "base_uri": "https://localhost:8080/"
        },
        "id": "B2MCntkg-umg",
        "outputId": "7de5eaeb-694a-4f62-868c-878ff10c12b0"
      },
      "outputs": [
        {
          "output_type": "stream",
          "name": "stdout",
          "text": [
            "name='Arjan' email='example@arjancodes.com' password=SecretStr('**********') role=None\n",
            "User is invalid\n",
            "{'type': 'missing', 'loc': ('name',), 'msg': 'Field required', 'input': {'email': '<bad data>', 'password': '<bad data>'}, 'url': 'https://errors.pydantic.dev/2.10/v/missing'}\n",
            "{'type': 'value_error', 'loc': ('email',), 'msg': 'value is not a valid email address: An email address must have an @-sign.', 'input': '<bad data>', 'ctx': {'reason': 'An email address must have an @-sign.'}}\n"
          ]
        }
      ],
      "source": [
        "# Função da validação, cria um User a partir dos dados com um \"filtro\" de validação\n",
        "# Se estiver tudo correto ele printa o user e se tiver divergências ele traz uma\n",
        "# mensagem de erro\n",
        "\n",
        "def validate(data: dict[str, Any]) -> None:\n",
        "    try:\n",
        "        user = User.model_validate(data)\n",
        "        print(user)\n",
        "    except ValidationError as e:\n",
        "        print(\"User is invalid\")\n",
        "        for error in e.errors():\n",
        "            print(error)\n",
        "\n",
        "# Função de execução principal, esta função cria os dicinários de dados válidos e\n",
        "# Dados inválidos, deposi disso valida esses dicionários\n",
        "def main() -> None:\n",
        "    good_data = {\n",
        "        \"name\": \"Arjan\",\n",
        "        \"email\": \"example@arjancodes.com\",\n",
        "        \"password\": \"Password123\",\n",
        "    }\n",
        "    bad_data = {\"email\": \"<bad data>\", \"password\": \"<bad data>\"}\n",
        "\n",
        "    validate(good_data)\n",
        "    validate(bad_data)\n",
        "\n",
        "# Garantia de que a função main só roda se for chamada diretamente\n",
        "if __name__ == \"__main__\":\n",
        "    main()"
      ]
    }
  ]
}