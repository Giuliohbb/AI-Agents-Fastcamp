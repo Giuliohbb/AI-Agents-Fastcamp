{
  "nbformat": 4,
  "nbformat_minor": 0,
  "metadata": {
    "colab": {
      "provenance": []
    },
    "kernelspec": {
      "name": "python3",
      "display_name": "Python 3"
    },
    "language_info": {
      "name": "python"
    }
  },
  "cells": [
    {
      "cell_type": "markdown",
      "source": [
        "# Instalação do pydantic e fastapi"
      ],
      "metadata": {
        "id": "q7MLcnXyf7QN"
      }
    },
    {
      "cell_type": "code",
      "execution_count": 1,
      "metadata": {
        "colab": {
          "base_uri": "https://localhost:8080/"
        },
        "id": "NDcUOHl5fxqU",
        "outputId": "e96bb3e6-772f-48d4-9ca2-c80bcce89f8f"
      },
      "outputs": [
        {
          "output_type": "stream",
          "name": "stdout",
          "text": [
            "Requirement already satisfied: pydantic[email] in /usr/local/lib/python3.11/dist-packages (2.10.6)\n",
            "Requirement already satisfied: annotated-types>=0.6.0 in /usr/local/lib/python3.11/dist-packages (from pydantic[email]) (0.7.0)\n",
            "Requirement already satisfied: pydantic-core==2.27.2 in /usr/local/lib/python3.11/dist-packages (from pydantic[email]) (2.27.2)\n",
            "Requirement already satisfied: typing-extensions>=4.12.2 in /usr/local/lib/python3.11/dist-packages (from pydantic[email]) (4.12.2)\n",
            "Collecting email-validator>=2.0.0 (from pydantic[email])\n",
            "  Downloading email_validator-2.2.0-py3-none-any.whl.metadata (25 kB)\n",
            "Collecting dnspython>=2.0.0 (from email-validator>=2.0.0->pydantic[email])\n",
            "  Downloading dnspython-2.7.0-py3-none-any.whl.metadata (5.8 kB)\n",
            "Requirement already satisfied: idna>=2.0.0 in /usr/local/lib/python3.11/dist-packages (from email-validator>=2.0.0->pydantic[email]) (3.10)\n",
            "Downloading email_validator-2.2.0-py3-none-any.whl (33 kB)\n",
            "Downloading dnspython-2.7.0-py3-none-any.whl (313 kB)\n",
            "\u001b[2K   \u001b[90m━━━━━━━━━━━━━━━━━━━━━━━━━━━━━━━━━━━━━━━━\u001b[0m \u001b[32m313.6/313.6 kB\u001b[0m \u001b[31m10.0 MB/s\u001b[0m eta \u001b[36m0:00:00\u001b[0m\n",
            "\u001b[?25hInstalling collected packages: dnspython, email-validator\n",
            "Successfully installed dnspython-2.7.0 email-validator-2.2.0\n",
            "Collecting fastapi\n",
            "  Downloading fastapi-0.115.11-py3-none-any.whl.metadata (27 kB)\n",
            "Collecting starlette<0.47.0,>=0.40.0 (from fastapi)\n",
            "  Downloading starlette-0.46.1-py3-none-any.whl.metadata (6.2 kB)\n",
            "Requirement already satisfied: pydantic!=1.8,!=1.8.1,!=2.0.0,!=2.0.1,!=2.1.0,<3.0.0,>=1.7.4 in /usr/local/lib/python3.11/dist-packages (from fastapi) (2.10.6)\n",
            "Requirement already satisfied: typing-extensions>=4.8.0 in /usr/local/lib/python3.11/dist-packages (from fastapi) (4.12.2)\n",
            "Requirement already satisfied: annotated-types>=0.6.0 in /usr/local/lib/python3.11/dist-packages (from pydantic!=1.8,!=1.8.1,!=2.0.0,!=2.0.1,!=2.1.0,<3.0.0,>=1.7.4->fastapi) (0.7.0)\n",
            "Requirement already satisfied: pydantic-core==2.27.2 in /usr/local/lib/python3.11/dist-packages (from pydantic!=1.8,!=1.8.1,!=2.0.0,!=2.0.1,!=2.1.0,<3.0.0,>=1.7.4->fastapi) (2.27.2)\n",
            "Requirement already satisfied: anyio<5,>=3.6.2 in /usr/local/lib/python3.11/dist-packages (from starlette<0.47.0,>=0.40.0->fastapi) (3.7.1)\n",
            "Requirement already satisfied: idna>=2.8 in /usr/local/lib/python3.11/dist-packages (from anyio<5,>=3.6.2->starlette<0.47.0,>=0.40.0->fastapi) (3.10)\n",
            "Requirement already satisfied: sniffio>=1.1 in /usr/local/lib/python3.11/dist-packages (from anyio<5,>=3.6.2->starlette<0.47.0,>=0.40.0->fastapi) (1.3.1)\n",
            "Downloading fastapi-0.115.11-py3-none-any.whl (94 kB)\n",
            "\u001b[2K   \u001b[90m━━━━━━━━━━━━━━━━━━━━━━━━━━━━━━━━━━━━━━━━\u001b[0m \u001b[32m94.9/94.9 kB\u001b[0m \u001b[31m3.5 MB/s\u001b[0m eta \u001b[36m0:00:00\u001b[0m\n",
            "\u001b[?25hDownloading starlette-0.46.1-py3-none-any.whl (71 kB)\n",
            "\u001b[2K   \u001b[90m━━━━━━━━━━━━━━━━━━━━━━━━━━━━━━━━━━━━━━━━\u001b[0m \u001b[32m72.0/72.0 kB\u001b[0m \u001b[31m4.6 MB/s\u001b[0m eta \u001b[36m0:00:00\u001b[0m\n",
            "\u001b[?25hInstalling collected packages: starlette, fastapi\n",
            "Successfully installed fastapi-0.115.11 starlette-0.46.1\n"
          ]
        }
      ],
      "source": [
        "!pip install pydantic[email]\n",
        "!pip install fastapi"
      ]
    },
    {
      "cell_type": "markdown",
      "source": [
        "# Importações necessárias"
      ],
      "metadata": {
        "id": "ZrVUplJ7gPUX"
      }
    },
    {
      "cell_type": "code",
      "source": [
        "from datetime import datetime\n",
        "from typing import Optional\n",
        "from uuid import uuid4\n",
        "\n",
        "from fastapi import FastAPI, HTTPException\n",
        "from fastapi.responses import JSONResponse\n",
        "from fastapi.testclient import TestClient\n",
        "from pydantic import BaseModel, EmailStr, Field, field_serializer, UUID4\n",
        "\n",
        "app = FastAPI() #Criação do app FastAPI"
      ],
      "metadata": {
        "id": "KoH-l3vQgErj"
      },
      "execution_count": 12,
      "outputs": []
    },
    {
      "cell_type": "code",
      "source": [
        "''' Classe que representa os dados de determinado paciente de forma estruturada\n",
        "usando o basemodel do pydantic'''\n",
        "class Patient(BaseModel):\n",
        "\n",
        "    #guarda o id do paiente como uuid4 data, o field possibilita acrescentar metadados\n",
        "    #gera um uuid4 automaticamente quando um objeto patient é criado\n",
        "    id: UUID4 = Field(default_factory=uuid4, description=\"Unique identifier for the patient\")\n",
        "\n",
        "    #armazena o nome completo de um paciente, que será uma string\n",
        "    name: str = Field(..., description=\"Patient's full name\")\n",
        "\n",
        "    #armazena o emai do paciente, que deverá ser um EmailStr para ser válido\n",
        "    email: EmailStr = Field(..., description=\"Patient's email\")\n",
        "\n",
        "    #armazena a data de nascimento do paciente como um objeto datetime\n",
        "    date_of_birth: datetime = Field(..., description=\"Date of birth\")\n",
        "\n",
        "    #armazena de forma opcional as alergias do paciente, cria uma lista vazia para caso\n",
        "    # o paciente não tenha alergias\n",
        "    allergies: Optional[list[str]] = Field(default=[], description=\"List of allergies\")\n",
        "\n",
        "    #armazena de forma ocpional as condições médicas do paciente, cria uma lista vazia\n",
        "    # para caso o paciente não tenha condições médicas específicadas\n",
        "    medical_conditions: Optional[list[str]] = Field(default=[], description=\"Pre-existing medical conditions\")"
      ],
      "metadata": {
        "id": "Iq90bM33gVlg"
      },
      "execution_count": 3,
      "outputs": []
    },
    {
      "cell_type": "code",
      "source": [
        "'''Criação da classe medicalrecords, para representar o registro médico de um\n",
        "paciente usando o basemodel do pydantic'''\n",
        "class MedicalRecord(BaseModel):\n",
        "\n",
        "    #guarda o id do registro médico como uuid4 data, o field possibilita acrescentar metadados\n",
        "    #gera um uuid4 automaticamente quando um objeto medicalrecord é criado\n",
        "    id: UUID4 = Field(default_factory=uuid4, description=\"Unique ID for the record\")\n",
        "\n",
        "    #guarda o id do paciente relacionado a este registro médico\n",
        "    patient_id: UUID4 = Field(..., description=\"ID of the patient\")\n",
        "\n",
        "    #armazena a data e hora em que o registro é criado\n",
        "    date: datetime = Field(default_factory=datetime.now, description=\"Date of the record\")\n",
        "\n",
        "    #armazena o diagnóstico para o registro\n",
        "    diagnosis: str = Field(..., description=\"Medical diagnosis\")\n",
        "\n",
        "    #armazena informações sobre o tratamento prescrito\n",
        "    treatment: str = Field(..., description=\"Prescribed treatment\")\n",
        "\n",
        "    #armazena o nomedo médico responsável\n",
        "    doctor: str = Field(..., description=\"Name of the doctor\")"
      ],
      "metadata": {
        "id": "yzau3aqXmBaG"
      },
      "execution_count": 4,
      "outputs": []
    },
    {
      "cell_type": "markdown",
      "source": [
        "# Criação de listas para armazenar as informações"
      ],
      "metadata": {
        "id": "uJYuXr6uRQ5I"
      }
    },
    {
      "cell_type": "code",
      "source": [
        "#Banco de dados fictício\n",
        "patients_db = []\n",
        "medical_records_db = []"
      ],
      "metadata": {
        "id": "xiSWykVjRQlW"
      },
      "execution_count": 5,
      "outputs": []
    },
    {
      "cell_type": "markdown",
      "source": [
        "# Endpoints da API"
      ],
      "metadata": {
        "id": "jj685qPERqdK"
      }
    },
    {
      "cell_type": "code",
      "source": [
        "# os endpoints ligam as funções criadas aos caminhos corretos dentro da aplicação\n",
        "# permitindo acessar e manipular os dados\n",
        "\n",
        "# cria a função create_patient, que recebe um objeto paciente e o adiciona\n",
        "# no banco de dados fictício criado para armazenar os dados dos pacientes\n",
        "# e retorna o paciente criado como resposta\n",
        "@app.post(\"/patients/\", response_model=Patient)\n",
        "def create_patient(patient: Patient):\n",
        "    patients_db.append(patient)\n",
        "    return patient\n",
        "\n",
        "# cria uma função get_patients que retorna a lista completa de pacientes\n",
        "@app.get(\"/patients/\", response_model=list[Patient])\n",
        "def get_patients():\n",
        "    return patients_db\n",
        "\n",
        "# cria uma função create_medical_record que checa se o patient id é válido e existe\n",
        "# no banco de dados dos pacientes, se ele existir cria uma objeto medical_record e\n",
        "# o adiciona no banco de dados\n",
        "@app.post(\"/medical_records/\", response_model=MedicalRecord)\n",
        "def create_medical_record(record: MedicalRecord):\n",
        "    if not any(p.id == record.patient_id for p in patients_db):\n",
        "        raise HTTPException(status_code=404, detail=\"Patient not found\")\n",
        "    medical_records_db.append(record)\n",
        "    return record\n",
        "\n",
        "# cria a função get_medical_records que filtra pelo id do paciente os registros\n",
        "# presentes no banco de dados, encontrando todos os registros daquele paciente\n",
        "# se forem encontrados registros eles serão retornados como resposta\n",
        "@app.get(\"/medical_records/{patient_id}\", response_model=list[MedicalRecord])\n",
        "def get_medical_records(patient_id: UUID4):\n",
        "    records = [r for r in medical_records_db if r.patient_id == patient_id]\n",
        "    if not records:\n",
        "        raise HTTPException(status_code=404, detail=\"No records found for this patient\")\n",
        "    return records\n"
      ],
      "metadata": {
        "id": "ymLF536RRqDp"
      },
      "execution_count": 13,
      "outputs": []
    },
    {
      "cell_type": "markdown",
      "source": [
        "Criação de um cliente para realizar testes"
      ],
      "metadata": {
        "id": "FDo_HsQxWeIe"
      }
    },
    {
      "cell_type": "code",
      "source": [
        "client = TestClient(app)"
      ],
      "metadata": {
        "id": "PpLQLDIoWa52"
      },
      "execution_count": 14,
      "outputs": []
    },
    {
      "cell_type": "markdown",
      "source": [
        "# Seção de testes da API utilizando o client de fastapi e validações do pydantic"
      ],
      "metadata": {
        "id": "Mq-JB_pXXkdq"
      }
    },
    {
      "cell_type": "code",
      "source": [
        "# teste de criação de um novo objeto de paciente, cujos dados serão armazenados em\n",
        "# formato json, verificação da resposta utilizando o assert e printando a resposta\n",
        "# em seguida. Ele cria um paciente chamado Anderson\n",
        "def test_create_patient():\n",
        "    response = client.post(\"/patients/\", json={\n",
        "        \"name\": \"Anderson Soares\",\n",
        "        \"email\": \"andersonsoares@example.com\",\n",
        "        \"date_of_birth\": \"1990-01-01T00:00:00\",\n",
        "        \"allergies\": [\"Peanuts\"],\n",
        "        \"medical_conditions\": [\"Asthma\"]\n",
        "    })\n",
        "    assert response.status_code == 200\n",
        "    print(\"Created Patient:\", response.json())\n",
        "    return response.json()\n",
        "\n",
        "# teste de criação de um novo registro médico, para testar todas as funcionalidades\n",
        "# ele também cria um novo paciente, Jair Santos e em seguida cria seu registro médico\n",
        "# com as informações apresentadas\n",
        "def test_create_medical_record():\n",
        "    patient_response = client.post(\"/patients/\", json={\n",
        "        \"name\": \"Jair Santos\",\n",
        "        \"email\": \"jairsantos@example.com\",\n",
        "        \"date_of_birth\": \"1985-05-05T00:00:00\",\n",
        "        \"allergies\": [],\n",
        "        \"medical_conditions\": []\n",
        "    })\n",
        "    patient_id = patient_response.json()[\"id\"]\n",
        "    print(\"Created Patient ID:\", patient_id)\n",
        "\n",
        "    record_response = client.post(\"/medical_records/\", json={\n",
        "        \"patient_id\": patient_id,\n",
        "        \"diagnosis\": \"Flu\",\n",
        "        \"treatment\": \"Rest and hydration\",\n",
        "        \"doctor\": \"Dr. Smith\"\n",
        "    })\n",
        "\n",
        "    assert record_response.status_code == 200\n",
        "    print(\"Created Medical Record:\", record_response.json())\n",
        "    return record_response.json()\n",
        "\n",
        "# Executando os testes e exibindo os resultados\n",
        "if __name__ == \"__main__\":\n",
        "    patient = test_create_patient()\n",
        "    medical_record = test_create_medical_record()\n"
      ],
      "metadata": {
        "colab": {
          "base_uri": "https://localhost:8080/"
        },
        "id": "OelZ-z--WkgD",
        "outputId": "f30b0b59-d363-4eb4-f5c3-59061fe66cba"
      },
      "execution_count": 17,
      "outputs": [
        {
          "output_type": "stream",
          "name": "stdout",
          "text": [
            "Created Patient: {'id': '74f7e3d4-5a54-4240-ab8a-5581fe117406', 'name': 'Anderson Soares', 'email': 'andersonsoares@example.com', 'date_of_birth': '1990-01-01T00:00:00', 'allergies': ['Peanuts'], 'medical_conditions': ['Asthma']}\n",
            "Created Patient ID: 3bb175c1-2803-4ba9-abce-0aea4b669982\n",
            "Created Medical Record: {'id': '99a46e62-618a-4023-8daa-accffe2bfac2', 'patient_id': '3bb175c1-2803-4ba9-abce-0aea4b669982', 'date': '2025-03-13T12:08:40.345197', 'diagnosis': 'Flu', 'treatment': 'Rest and hydration', 'doctor': 'Dr. Smith'}\n"
          ]
        }
      ]
    }
  ]
}