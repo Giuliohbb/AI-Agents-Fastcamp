{
  "nbformat": 4,
  "nbformat_minor": 0,
  "metadata": {
    "colab": {
      "provenance": []
    },
    "kernelspec": {
      "name": "python3",
      "display_name": "Python 3"
    },
    "language_info": {
      "name": "python"
    }
  },
  "cells": [
    {
      "cell_type": "markdown",
      "source": [
        "# Instalação do pydantic"
      ],
      "metadata": {
        "id": "XeBK2SJTHIoV"
      }
    },
    {
      "cell_type": "code",
      "source": [
        "pip install pydantic[email]"
      ],
      "metadata": {
        "colab": {
          "base_uri": "https://localhost:8080/"
        },
        "id": "nKfY4q6PGpyG",
        "outputId": "d02dc757-4dca-42be-ef92-6f74cdd54126"
      },
      "execution_count": null,
      "outputs": [
        {
          "output_type": "stream",
          "name": "stdout",
          "text": [
            "Requirement already satisfied: pydantic[email] in /usr/local/lib/python3.11/dist-packages (2.10.6)\n",
            "Requirement already satisfied: annotated-types>=0.6.0 in /usr/local/lib/python3.11/dist-packages (from pydantic[email]) (0.7.0)\n",
            "Requirement already satisfied: pydantic-core==2.27.2 in /usr/local/lib/python3.11/dist-packages (from pydantic[email]) (2.27.2)\n",
            "Requirement already satisfied: typing-extensions>=4.12.2 in /usr/local/lib/python3.11/dist-packages (from pydantic[email]) (4.12.2)\n",
            "Collecting email-validator>=2.0.0 (from pydantic[email])\n",
            "  Downloading email_validator-2.2.0-py3-none-any.whl.metadata (25 kB)\n",
            "Collecting dnspython>=2.0.0 (from email-validator>=2.0.0->pydantic[email])\n",
            "  Downloading dnspython-2.7.0-py3-none-any.whl.metadata (5.8 kB)\n",
            "Requirement already satisfied: idna>=2.0.0 in /usr/local/lib/python3.11/dist-packages (from email-validator>=2.0.0->pydantic[email]) (3.10)\n",
            "Downloading email_validator-2.2.0-py3-none-any.whl (33 kB)\n",
            "Downloading dnspython-2.7.0-py3-none-any.whl (313 kB)\n",
            "\u001b[2K   \u001b[90m━━━━━━━━━━━━━━━━━━━━━━━━━━━━━━━━━━━━━━━━\u001b[0m \u001b[32m313.6/313.6 kB\u001b[0m \u001b[31m7.6 MB/s\u001b[0m eta \u001b[36m0:00:00\u001b[0m\n",
            "\u001b[?25hInstalling collected packages: dnspython, email-validator\n",
            "Successfully installed dnspython-2.7.0 email-validator-2.2.0\n"
          ]
        }
      ]
    },
    {
      "cell_type": "markdown",
      "source": [
        "# Importação das Bibliotecas necessárias"
      ],
      "metadata": {
        "id": "mwsqmgjVHWSC"
      }
    },
    {
      "cell_type": "code",
      "source": [
        "import enum\n",
        "import hashlib\n",
        "import re\n",
        "from typing import Any\n",
        "\n",
        "from pydantic import (\n",
        "    BaseModel,\n",
        "    EmailStr,\n",
        "    Field,\n",
        "    field_validator,\n",
        "    model_validator,\n",
        "    SecretStr,\n",
        "    ValidationError,\n",
        ")"
      ],
      "metadata": {
        "id": "V412uCKXG2gA"
      },
      "execution_count": null,
      "outputs": []
    },
    {
      "cell_type": "markdown",
      "source": [
        "Instruções para validação das expressões regulares com re para a senha e o nome, definidos em suas respectivas variáveis"
      ],
      "metadata": {
        "id": "ehgq-_XCHf_E"
      }
    },
    {
      "cell_type": "code",
      "source": [
        "# Validação de senha para que ela contenha ao menos 8 caractéres, uma minúscula,\n",
        "# uma maiúscula e um número\n",
        "VALID_PASSWORD_REGEX = re.compile(r\"^(?=.*[a-z])(?=.*[A-Z])(?=.*\\d).{8,}$\")\n",
        "\n",
        "# Validação do nome para que ele tenha apenas letras e ao menos 2 caracteres\n",
        "VALID_NAME_REGEX = re.compile(r\"^[a-zA-Z]{2,}$\")"
      ],
      "metadata": {
        "id": "Irj66Y6gG6vv"
      },
      "execution_count": null,
      "outputs": []
    },
    {
      "cell_type": "markdown",
      "source": [
        "# Definição das **classes** Role e User, usando pydantic para criar modelos de dados com validação"
      ],
      "metadata": {
        "id": "zfBNx2mVI0vN"
      }
    },
    {
      "cell_type": "code",
      "execution_count": null,
      "metadata": {
        "colab": {
          "base_uri": "https://localhost:8080/"
        },
        "collapsed": true,
        "id": "YU2n65ClGY0H",
        "outputId": "7f269847-1e49-4595-f5de-d603c0d0c95e"
      },
      "outputs": [
        {
          "output_type": "stream",
          "name": "stdout",
          "text": [
            "good_data\n",
            "name='Arjan' email='example@arjancodes.com' password=SecretStr('**********') role=<Role.Admin: 4>\n",
            "\n",
            "bad_role\n",
            "User is invalid:\n",
            "1 validation error for User\n",
            "role\n",
            "  Value error, Role is invalid, please use one of the following: Author, Editor, Admin, SuperAdmin [type=value_error, input_value='Programmer', input_type=str]\n",
            "    For further information visit https://errors.pydantic.dev/2.10/v/value_error\n",
            "\n",
            "bad_data\n",
            "User is invalid:\n",
            "1 validation error for User\n",
            "  Value error, Password is invalid, must contain 8 characters, 1 uppercase, 1 lowercase, 1 number [type=value_error, input_value={'name': 'Arjan', 'email'...ssword': 'bad password'}, input_type=dict]\n",
            "    For further information visit https://errors.pydantic.dev/2.10/v/value_error\n",
            "\n",
            "bad_name\n",
            "User is invalid:\n",
            "1 validation error for User\n",
            "name\n",
            "  Value error, Name is invalid, must contain only letters and be at least 2 characters long [type=value_error, input_value='Arjan<-_->', input_type=str]\n",
            "    For further information visit https://errors.pydantic.dev/2.10/v/value_error\n",
            "\n",
            "duplicate\n",
            "User is invalid:\n",
            "1 validation error for User\n",
            "  Value error, Password cannot contain name [type=value_error, input_value={'name': 'Arjan', 'email'... 'password': 'Arjan123'}, input_type=dict]\n",
            "    For further information visit https://errors.pydantic.dev/2.10/v/value_error\n",
            "\n",
            "missing_data\n",
            "User is invalid:\n",
            "1 validation error for User\n",
            "  Value error, Name and password are required [type=value_error, input_value={'email': '<bad data>', 'password': '<bad data>'}, input_type=dict]\n",
            "    For further information visit https://errors.pydantic.dev/2.10/v/value_error\n",
            "\n"
          ]
        }
      ],
      "source": [
        "# Define uma númeração para cada papel, permitindo cobiná-los com bitwise\n",
        "class Role(enum.IntFlag):\n",
        "    Author = 1\n",
        "    Editor = 2\n",
        "    Admin = 4\n",
        "    SuperAdmin = 8\n",
        "\n",
        "# A classe user define o modelo de dados para o usuário, com nome, email, senha e papel\n",
        "# O Field permite adição de dados como exemplos e descrições\n",
        "class User(BaseModel):\n",
        "    name: str = Field(examples=[\"Arjan\"])\n",
        "    email: EmailStr = Field(\n",
        "        examples=[\"user@arjancodes.com\"],\n",
        "        description=\"The email address of the user\",\n",
        "        frozen=True,\n",
        "    )\n",
        "    password: SecretStr = Field(\n",
        "        examples=[\"Password123\"], description=\"The password of the user\"\n",
        "    )\n",
        "    role: Role = Field(\n",
        "        default=None, description=\"The role of the user\", examples=[1, 2, 4, 8]\n",
        "    )\n",
        "\n",
        "# Este método Field_validator usa a variável para nome definida anteriormente,\n",
        "# Verificando se contém apenas letras e até dois dígitos\n",
        "    @field_validator(\"name\")\n",
        "    @classmethod\n",
        "    def validate_name(cls, v: str) -> str:\n",
        "        if not VALID_NAME_REGEX.match(v):\n",
        "            raise ValueError(\n",
        "                \"Name is invalid, must contain only letters and be at least 2 characters long\"\n",
        "            )\n",
        "        return v\n",
        "\n",
        "# Este fieldvalidator se aplica ao papel, podendo receber um numero int, string\n",
        "# ou enum number, e converte qualquer um destes para um enum number relacionado ao\n",
        "# Role, se o input for inválido ele retorna um erro\n",
        "    @field_validator(\"role\", mode=\"before\")\n",
        "    @classmethod\n",
        "    def validate_role(cls, v: int | str | Role) -> Role:\n",
        "        op = {int: lambda x: Role(x), str: lambda x: Role[x], Role: lambda x: x}\n",
        "        try:\n",
        "            return op[type(v)](v)\n",
        "        except (KeyError, ValueError):\n",
        "            raise ValueError(\n",
        "                f\"Role is invalid, please use one of the following: {', '.join([x.name for x in Role])}\"\n",
        "            )\n",
        "\n",
        "# Este método model_validator checa se foram preencidos o nome e a senha, garante\n",
        "# que a senha não seja igual ao nome, valida a senha, utiliza um hash para atestar\n",
        "# sua autenticidade e se ocorrer qualquer erro ele retorna um ValueError\n",
        "    @model_validator(mode=\"before\")\n",
        "    @classmethod\n",
        "    def validate_user(cls, v: dict[str, Any]) -> dict[str, Any]:\n",
        "        if \"name\" not in v or \"password\" not in v:\n",
        "            raise ValueError(\"Name and password are required\")\n",
        "        if v[\"name\"].casefold() in v[\"password\"].casefold():\n",
        "            raise ValueError(\"Password cannot contain name\")\n",
        "        if not VALID_PASSWORD_REGEX.match(v[\"password\"]):\n",
        "            raise ValueError(\n",
        "                \"Password is invalid, must contain 8 characters, 1 uppercase, 1 lowercase, 1 number\"\n",
        "            )\n",
        "        v[\"password\"] = hashlib.sha256(v[\"password\"].encode()).hexdigest()\n",
        "        return v"
      ]
    },
    {
      "cell_type": "markdown",
      "source": [
        "# Definição da função que valida os dados para criar um objeto User baseado nas regras da classe User"
      ],
      "metadata": {
        "id": "lyt0dwSaMtqV"
      }
    },
    {
      "cell_type": "code",
      "source": [
        "# a função validate recebe os dados que devem corresponder aos fields da classe User\n",
        "# o try verifica a possível existência de erros\n",
        "# o método model_validate é a ação principal, criando um objeto user após validar\n",
        "# seus dados, se ocorrer um erro retorna uma mensagem de erro e se der certo mostra\n",
        "# o user\n",
        "def validate(data: dict[str, Any]) -> None:\n",
        "    try:\n",
        "        user = User.model_validate(data)\n",
        "        print(user)\n",
        "    except ValidationError as e:\n",
        "        print(\"User is invalid:\")\n",
        "        print(e)"
      ],
      "metadata": {
        "id": "v79vv3PUHBTu"
      },
      "execution_count": null,
      "outputs": []
    },
    {
      "cell_type": "markdown",
      "source": [
        "# Função para testar os dados e validar o usuário se estiver tudo correto"
      ],
      "metadata": {
        "id": "aiz9_JjVOg7k"
      }
    },
    {
      "cell_type": "code",
      "source": [
        "# Usa o dicionário test data com dados ficticios para teste rotulados em:\n",
        "# good data, bad data e bad role(bons dados, dados ruins e papeis ruins)\n",
        "def main() -> None:\n",
        "    test_data = dict(\n",
        "        good_data={\n",
        "            \"name\": \"Arjan\",\n",
        "            \"email\": \"example@arjancodes.com\",\n",
        "            \"password\": \"Password123\",\n",
        "            \"role\": \"Admin\",\n",
        "        },\n",
        "        bad_role={\n",
        "            \"name\": \"Arjan\",\n",
        "            \"email\": \"example@arjancodes.com\",\n",
        "            \"password\": \"Password123\",\n",
        "            \"role\": \"Programmer\",\n",
        "        },\n",
        "        bad_data={\n",
        "            \"name\": \"Arjan\",\n",
        "            \"email\": \"bad email\",\n",
        "            \"password\": \"bad password\",\n",
        "        },\n",
        "        bad_name={\n",
        "            \"name\": \"Arjan<-_->\",\n",
        "            \"email\": \"example@arjancodes.com\",\n",
        "            \"password\": \"Password123\",\n",
        "        },\n",
        "        duplicate={\n",
        "            \"name\": \"Arjan\",\n",
        "            \"email\": \"example@arjancodes.com\",\n",
        "            \"password\": \"Arjan123\",\n",
        "        },\n",
        "        missing_data={\n",
        "            \"email\": \"<bad data>\",\n",
        "            \"password\": \"<bad data>\",\n",
        "        },\n",
        "    )\n",
        "# o loop for itera por cada item no dicionário test data, separando pelos rótulos\n",
        "# dos dados e o validate faz a validação do seu conteúdo\n",
        "    for example_name, data in test_data.items():\n",
        "        print(example_name)\n",
        "        validate(data)\n",
        "        print()\n",
        "\n",
        "\n",
        "if __name__ == \"__main__\":\n",
        "    main()"
      ],
      "metadata": {
        "id": "hW4BazesGxIc"
      },
      "execution_count": null,
      "outputs": []
    }
  ]
}