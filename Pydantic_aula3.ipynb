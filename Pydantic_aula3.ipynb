{
  "nbformat": 4,
  "nbformat_minor": 0,
  "metadata": {
    "colab": {
      "provenance": []
    },
    "kernelspec": {
      "name": "python3",
      "display_name": "Python 3"
    },
    "language_info": {
      "name": "python"
    }
  },
  "cells": [
    {
      "cell_type": "markdown",
      "source": [
        "# Instalação do pydantic"
      ],
      "metadata": {
        "id": "bBecIRou9fUS"
      }
    },
    {
      "cell_type": "code",
      "source": [
        "pip install pydantic[email]"
      ],
      "metadata": {
        "colab": {
          "base_uri": "https://localhost:8080/"
        },
        "id": "ANwO662V9bh5",
        "outputId": "88e73daa-3afa-403a-f9c1-0ee8f5836e6c"
      },
      "execution_count": 1,
      "outputs": [
        {
          "output_type": "stream",
          "name": "stdout",
          "text": [
            "Requirement already satisfied: pydantic[email] in /usr/local/lib/python3.11/dist-packages (2.10.6)\n",
            "Requirement already satisfied: annotated-types>=0.6.0 in /usr/local/lib/python3.11/dist-packages (from pydantic[email]) (0.7.0)\n",
            "Requirement already satisfied: pydantic-core==2.27.2 in /usr/local/lib/python3.11/dist-packages (from pydantic[email]) (2.27.2)\n",
            "Requirement already satisfied: typing-extensions>=4.12.2 in /usr/local/lib/python3.11/dist-packages (from pydantic[email]) (4.12.2)\n",
            "Collecting email-validator>=2.0.0 (from pydantic[email])\n",
            "  Downloading email_validator-2.2.0-py3-none-any.whl.metadata (25 kB)\n",
            "Collecting dnspython>=2.0.0 (from email-validator>=2.0.0->pydantic[email])\n",
            "  Downloading dnspython-2.7.0-py3-none-any.whl.metadata (5.8 kB)\n",
            "Requirement already satisfied: idna>=2.0.0 in /usr/local/lib/python3.11/dist-packages (from email-validator>=2.0.0->pydantic[email]) (3.10)\n",
            "Downloading email_validator-2.2.0-py3-none-any.whl (33 kB)\n",
            "Downloading dnspython-2.7.0-py3-none-any.whl (313 kB)\n",
            "\u001b[2K   \u001b[90m━━━━━━━━━━━━━━━━━━━━━━━━━━━━━━━━━━━━━━━━\u001b[0m \u001b[32m313.6/313.6 kB\u001b[0m \u001b[31m7.6 MB/s\u001b[0m eta \u001b[36m0:00:00\u001b[0m\n",
            "\u001b[?25hInstalling collected packages: dnspython, email-validator\n",
            "Successfully installed dnspython-2.7.0 email-validator-2.2.0\n"
          ]
        }
      ]
    },
    {
      "cell_type": "markdown",
      "source": [
        "# Importações e setups necessários"
      ],
      "metadata": {
        "id": "t7iL07uv9ODm"
      }
    },
    {
      "cell_type": "code",
      "source": [
        "import enum\n",
        "import hashlib\n",
        "import re\n",
        "from typing import Any, Self\n",
        "from pydantic import (\n",
        "    BaseModel,\n",
        "    EmailStr,\n",
        "    Field,\n",
        "    field_serializer,\n",
        "    field_validator,\n",
        "    model_serializer,\n",
        "    model_validator,\n",
        "    SecretStr,\n",
        ")"
      ],
      "metadata": {
        "id": "_T-_LQ7i8-W5"
      },
      "execution_count": 2,
      "outputs": []
    },
    {
      "cell_type": "markdown",
      "source": [
        "# Regras para a criação da senha e do nome"
      ],
      "metadata": {
        "id": "SWdvPiJt9OqU"
      }
    },
    {
      "cell_type": "code",
      "source": [
        "# Obriga a senha a ter ao menos 8 caracteres, uma maiúscula, uma minúscula e um número\n",
        "VALID_PASSWORD_REGEX = re.compile(r\"^(?=.*[a-z])(?=.*[A-Z])(?=.*\\d).{8,}$\")\n",
        "# Obriga o nome a ter apenas letras e ao menos 2 caracteres\n",
        "VALID_NAME_REGEX = re.compile(r\"^[a-zA-Z]{2,}$\")"
      ],
      "metadata": {
        "id": "z9b8_Mcx9BKe"
      },
      "execution_count": 3,
      "outputs": []
    },
    {
      "cell_type": "markdown",
      "source": [
        "# Criação das classes Role e User"
      ],
      "metadata": {
        "id": "qxIga0rc9PTt"
      }
    },
    {
      "cell_type": "code",
      "execution_count": 9,
      "metadata": {
        "id": "WkAlJVW38RBY"
      },
      "outputs": [],
      "source": [
        "''' Isso cria um enum chamado Role para cada cargo, dessa forma cada cargo recebe um\n",
        "valor inteiro, ajudando a organizar e restringir valores da forma desejada'''\n",
        "class Role(enum.IntFlag):\n",
        "    User = 0\n",
        "    Author = 1\n",
        "    Editor = 2\n",
        "    Admin = 4\n",
        "    SuperAdmin = 8\n",
        "\n",
        "\n",
        "'''Isso cria um modelo de usuário, especificando que este pode ter nome, email,\n",
        "senha e cargo, o Field é usado para adicionar metadados a cada atributo, como exemplos\n",
        "ou regras'''\n",
        "class User(BaseModel):\n",
        "    name: str = Field(examples=[\"Example\"])\n",
        "    email: EmailStr = Field(\n",
        "        examples=[\"user@arjancodes.com\"],\n",
        "        description=\"The email address of the user\",\n",
        "        frozen=True,\n",
        "    )\n",
        "    password: SecretStr = Field(\n",
        "        examples=[\"Password123\"], description=\"The password of the user\", exclude=True\n",
        "    )\n",
        "    role: Role = Field(\n",
        "        description=\"The role of the user\",\n",
        "        examples=[1, 2, 4, 8],\n",
        "        default=0,\n",
        "        validate_default=True,\n",
        "    )\n",
        "# Adição de métodos de validação, o field_validator valida o nome usanod o VALID_NAME_REGEX\n",
        "    @field_validator(\"name\")\n",
        "    def validate_name(cls, v: str) -> str:\n",
        "        if not VALID_NAME_REGEX.match(v):\n",
        "            raise ValueError(\n",
        "                \"Name is invalid, must contain only letters and be at least 2 characters long\"\n",
        "            )\n",
        "        return v\n",
        "# O validate_role valida o cargo garantindo que é um enum válido independentemente da\n",
        "# forma que ele for informado(str, int, enum)\n",
        "    @field_validator(\"role\", mode=\"before\")\n",
        "    @classmethod\n",
        "    def validate_role(cls, v: int | str | Role) -> Role:\n",
        "        op = {int: lambda x: Role(x), str: lambda x: Role[x], Role: lambda x: x}\n",
        "        try:\n",
        "            return op[type(v)](v)\n",
        "        except (KeyError, ValueError):\n",
        "            raise ValueError(\n",
        "                f\"Role is invalid, please use one of the following: {', '.join([x.name for x in Role])}\"\n",
        "            )\n",
        "\n",
        "# validate_user_pre realiza uma validação em todos os dados do usuário antes de\n",
        "# criar o objeto, checa se senha e nome estão presentes, se a senha não é igual\n",
        "# ao nome, se a senha se encaixa no VALID_PASSWORD_REGEX, e usa uma HASH na senha\n",
        "# para garantir a segurança\n",
        "    @model_validator(mode=\"before\")\n",
        "    @classmethod\n",
        "    def validate_user_pre(cls, v: dict[str, Any]) -> dict[str, Any]:\n",
        "        if \"name\" not in v or \"password\" not in v:\n",
        "            raise ValueError(\"Name and password are required\")\n",
        "        if v[\"name\"].casefold() in v[\"password\"].casefold():\n",
        "            raise ValueError(\"Password cannot contain name\")\n",
        "        if not VALID_PASSWORD_REGEX.match(v[\"password\"]):\n",
        "            raise ValueError(\n",
        "                \"Password is invalid, must contain 8 characters, 1 uppercase, 1 lowercase, 1 number\"\n",
        "            )\n",
        "        v[\"password\"] = hashlib.sha256(v[\"password\"].encode()).hexdigest()\n",
        "        return v\n",
        "\n",
        "# validate_user_post realiza uma validação após a criação do objeto, define que\n",
        "# apenas o user Arjan pode ter o cargo de admin\n",
        "    @model_validator(mode=\"after\")\n",
        "    def validate_user_post(self, v: Any) -> Self:\n",
        "        if self.role == Role.Admin and self.name != \"Arjan\":\n",
        "            raise ValueError(\"Only Arjan can be an admin\")\n",
        "        return self\n",
        "\n",
        "# Serializações\n",
        "# controle de como o user é convertido a outro tipo de dado\n",
        "# serialize_role garante que o cargo seja salvo com seu nome\n",
        "    @field_serializer(\"role\", when_used=\"json\")\n",
        "    @classmethod\n",
        "    def serialize_role(cls, v) -> str:\n",
        "        return v.name\n",
        "\n",
        "# serialize_number garante que o objeto User seja serializado incluindo apenas\n",
        "# o cargo e o nome ou as informações desejadas da forma configurada\n",
        "    @model_serializer(mode=\"wrap\", when_used=\"json\")\n",
        "    def serialize_user(self, serializer, info) -> dict[str, Any]:\n",
        "        if not info.include and not info.exclude:\n",
        "            return {\"name\": self.name, \"role\": self.role.name}\n",
        "        return serializer(self)"
      ]
    },
    {
      "cell_type": "markdown",
      "source": [
        "# Definição da função main e execução"
      ],
      "metadata": {
        "id": "2dsw_cDJFE9a"
      }
    },
    {
      "cell_type": "code",
      "source": [
        "'''Criação da função main, criação de um dicionário chamado data que conterá\n",
        "as informações do usuário, esses dados serão usados para criar o Objeto user.\n",
        "Em seguida valida e cria o objeto, confere se foi criado corretamente e o\n",
        "serializa em diferentes formatos.'''\n",
        "\n",
        "def main() -> None:\n",
        "    data = {\n",
        "        \"name\": \"Arjan\",\n",
        "        \"email\": \"example@arjancodes.com\",\n",
        "        \"password\": \"Password123\",\n",
        "        \"role\": \"Admin\",\n",
        "    }\n",
        "    user = User.model_validate(data)\n",
        "    if user:\n",
        "        print(\n",
        "            \"The serializer that returns a dict:\",\n",
        "            user.model_dump(),\n",
        "            sep=\"\\n\",\n",
        "            end=\"\\n\\n\",\n",
        "        )\n",
        "        print(\n",
        "            \"The serializer that returns a JSON string:\",\n",
        "            user.model_dump(mode=\"json\"),\n",
        "            sep=\"\\n\",\n",
        "            end=\"\\n\\n\",\n",
        "        )\n",
        "        print(\n",
        "            \"The serializer that returns a json string, excluding the role:\",\n",
        "            user.model_dump(exclude=[\"role\"], mode=\"json\"),\n",
        "            sep=\"\\n\",\n",
        "            end=\"\\n\\n\",\n",
        "        )\n",
        "        print(\"The serializer that encodes all values to a dict:\", dict(user), sep=\"\\n\")\n",
        "\n",
        "\n",
        "if __name__ == \"__main__\":\n",
        "    main()"
      ],
      "metadata": {
        "colab": {
          "base_uri": "https://localhost:8080/"
        },
        "id": "oV6CgK5y83hG",
        "outputId": "6da76ddb-adc6-4be1-fb7b-29489f0cbbdc"
      },
      "execution_count": 10,
      "outputs": [
        {
          "output_type": "stream",
          "name": "stdout",
          "text": [
            "The serializer that returns a dict:\n",
            "{'name': 'Arjan', 'email': 'example@arjancodes.com', 'role': <Role.Admin: 4>}\n",
            "\n",
            "The serializer that returns a JSON string:\n",
            "{'name': 'Arjan', 'role': 'Admin'}\n",
            "\n",
            "The serializer that returns a json string, excluding the role:\n",
            "{'name': 'Arjan', 'email': 'example@arjancodes.com'}\n",
            "\n",
            "The serializer that encodes all values to a dict:\n",
            "{'name': 'Arjan', 'email': 'example@arjancodes.com', 'password': SecretStr('**********'), 'role': <Role.Admin: 4>}\n"
          ]
        }
      ]
    }
  ]
}